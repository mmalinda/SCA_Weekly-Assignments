{
  "nbformat": 4,
  "nbformat_minor": 0,
  "metadata": {
    "colab": {
      "name": "SCA_W1_MM.ipynb",
      "provenance": [],
      "authorship_tag": "ABX9TyNRV4hbKd0PYE12k7VFRv/I"
    },
    "kernelspec": {
      "name": "python3",
      "display_name": "Python 3"
    }
  },
  "cells": [
    {
      "cell_type": "markdown",
      "metadata": {
        "id": "ZgDQcPs62lHy",
        "colab_type": "text"
      },
      "source": [
        "# SCA Assignment - Week 1"
      ]
    },
    {
      "cell_type": "code",
      "metadata": {
        "id": "kI_uZXXdzZS0",
        "colab_type": "code",
        "colab": {}
      },
      "source": [
        "# Importing libraries\n",
        "import pandas as pd\n",
        "from numpy.random import randint\n",
        "import string\n",
        "from random import *"
      ],
      "execution_count": null,
      "outputs": []
    },
    {
      "cell_type": "markdown",
      "metadata": {
        "id": "s_gYLmzV2fvC",
        "colab_type": "text"
      },
      "source": [
        "## 1. Guess the Number"
      ]
    },
    {
      "cell_type": "code",
      "metadata": {
        "id": "TNB1Vegize8_",
        "colab_type": "code",
        "colab": {
          "base_uri": "https://localhost:8080/",
          "height": 69
        },
        "outputId": "8ec2326d-a6f5-40cf-9a69-d6cf2b75658b"
      },
      "source": [
        "# Making the computer generate a random number\n",
        "x = randint(0, 20)\n",
        "\n",
        "# Asking the user to input a random number\n",
        "y = int(input(\"Enter a number between 0 and 20:\"))\n",
        "\n",
        "# Returning the result\n",
        "print (\"The number was\", str(x) + \", you guessed\", str(y))\n",
        "\n",
        "# Correct guess\n",
        "if y == x:\n",
        "  print(\"Congratulations, you guessed the right number!\")\n",
        "\n",
        "# Too low\n",
        "elif y < x:\n",
        "  print(\"Your guess is too low.\")\n",
        "\n",
        "# Too high\n",
        "else:\n",
        "  print(\"Your guess is too high.\")"
      ],
      "execution_count": null,
      "outputs": [
        {
          "output_type": "stream",
          "text": [
            "Enter a number between 0 and 20:10\n",
            "The number was 4, you guessed 10\n",
            "Your guess is too high.\n"
          ],
          "name": "stdout"
        }
      ]
    },
    {
      "cell_type": "markdown",
      "metadata": {
        "id": "31T0bqaw2t9P",
        "colab_type": "text"
      },
      "source": [
        "## 2. Password Generator"
      ]
    },
    {
      "cell_type": "code",
      "metadata": {
        "colab_type": "code",
        "id": "yeauE6pcEIX_",
        "colab": {
          "base_uri": "https://localhost:8080/",
          "height": 156
        },
        "outputId": "55b0894c-19d8-4f41-e380-6a0dae13782d"
      },
      "source": [
        "# Asking the user to select the number of letters in the password\n",
        "tot = int(input(\"How many characters would you like to have in your password? (Your password should be a minimum of 6 characters long)\"))\n",
        "\n",
        "while tot <6:\n",
        "  tot = int(input(\"Please enter a number higher than 6.\"))\n",
        "\n",
        "# Asking the user to select the number of letters in the password\n",
        "let = int(input(\"How many letters would you like to have in your password?\"))\n",
        "\n",
        "while let > tot:\n",
        "  let = int(input(\"The number of letters should be less than the total. How many letters would you like to have in your password?\"))\n",
        "\n",
        "# Asking the user to select the number of letters in the password\n",
        "num = int(input(\"How many numbers would you like to have in your password?\"))\n",
        "\n",
        "while num + let > tot:\n",
        "  num = int(input(\"The total number of numbers and letters combined should be less than the total. How many numbers would you like to have in your password?\"))\n",
        "\n",
        "def password(tot, let, num):\n",
        "  \"\"\"Get a random password with user input\"\"\"\n",
        "\n",
        "  # Random numbers\n",
        "  characters = ''.join(choice(string.digits) for i in range(num))\n",
        "\n",
        "  # Random letters\n",
        "  characters += ''.join(choice(string.ascii_letters) for i in range(let))\n",
        "\n",
        "  # Random symbols\n",
        "  sym = tot - (let + num) # Calculating number of symbols\n",
        "\n",
        "  characters += ''.join(choice(string.punctuation) for i in range(sym))\n",
        "\n",
        "  # The password string is complete\n",
        "  \n",
        "  # Shuffling characters\n",
        "  all_characters = list(characters) \n",
        "\n",
        "  shuffle(all_characters) \n",
        "\n",
        "  password = ''.join(all_characters) \n",
        "\n",
        "  print(\"Your password is:\", password)\n",
        "\n",
        "# Calling the function\n",
        "password(tot, let, num)"
      ],
      "execution_count": null,
      "outputs": [
        {
          "output_type": "stream",
          "text": [
            "How many characters would you like to have in your password? (Your password should be a minimum of 6 characters long)3\n",
            "Please enter a number higher than 6.4\n",
            "Please enter a number higher than 6.13\n",
            "How many letters would you like to have in your password?15\n",
            "The number of letters should be less than the total. How many letters would you like to have in your password?7\n",
            "How many numbers would you like to have in your password?10\n",
            "The total number of numbers and letters combined should be less than the total. How many numbers would you like to have in your password?3\n",
            "Your password is: hy2U0om&8I@I|\n"
          ],
          "name": "stdout"
        }
      ]
    }
  ]
}