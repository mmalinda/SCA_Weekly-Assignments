{
 "cells": [
  {
   "cell_type": "markdown",
   "metadata": {},
   "source": [
    "# Gym Crowdedness Analysis"
   ]
  },
  {
   "cell_type": "markdown",
   "metadata": {},
   "source": [
    "The global COVID-19 pandemic has forced industries that depend on high customer traffic to their premises to restrategize so that they can remain profitable and still serve their customer base. One such sector is the fitness industry where certain gym classes have been recorded as 'superspreading' events, and crowding/high demand makes it difficult to enforce social distancing guidelines.\n",
    "Analysing hourly data on the number of people at a gym to identify the most and least busy hours can result in a creative solution.\n",
    "\n",
    "The 3 main objectives of this analysis are to find out:\n",
    "1. What is the least busy hour and day at a gym that caters to college students? i.e. On which days can the gym offer specialised classes or offers to attract customers that normally visit on busier days?\n",
    "2. At what point in the calendar/school year is the gym busiest?\n",
    "3. How does temperature affect traffic at the gym?\n",
    "\n",
    "The data used for this analysis is the number of people at a gym recorded approximately every 10 minutes from August 2015 to March 2017. The data includes information on the hour, day of the week, month, whether it is a weekend or holiday, the point in the school calendar year and temperature. The dataset was obtained from Kaggle (https://www.kaggle.com/nsrose7224/crowdedness-at-the-campus-gym) and collected with the consent of the university and the gym."
   ]
  },
  {
   "cell_type": "code",
   "execution_count": 6,
   "metadata": {},
   "outputs": [],
   "source": [
    "# Loading libraries\n",
    "import pandas as pd\n",
    "import numpy as np\n",
    "import matplotlib.pyplot as plt\n",
    "%matplotlib inline\n",
    "import seaborn as sns"
   ]
  },
  {
   "cell_type": "code",
   "execution_count": 7,
   "metadata": {},
   "outputs": [
    {
     "data": {
      "text/html": [
       "<div>\n",
       "<style scoped>\n",
       "    .dataframe tbody tr th:only-of-type {\n",
       "        vertical-align: middle;\n",
       "    }\n",
       "\n",
       "    .dataframe tbody tr th {\n",
       "        vertical-align: top;\n",
       "    }\n",
       "\n",
       "    .dataframe thead th {\n",
       "        text-align: right;\n",
       "    }\n",
       "</style>\n",
       "<table border=\"1\" class=\"dataframe\">\n",
       "  <thead>\n",
       "    <tr style=\"text-align: right;\">\n",
       "      <th></th>\n",
       "      <th>number_people</th>\n",
       "      <th>date</th>\n",
       "      <th>timestamp</th>\n",
       "      <th>day_of_week</th>\n",
       "      <th>is_weekend</th>\n",
       "      <th>is_holiday</th>\n",
       "      <th>temperature</th>\n",
       "      <th>is_start_of_semester</th>\n",
       "      <th>is_during_semester</th>\n",
       "      <th>month</th>\n",
       "      <th>hour</th>\n",
       "    </tr>\n",
       "  </thead>\n",
       "  <tbody>\n",
       "    <tr>\n",
       "      <th>0</th>\n",
       "      <td>37</td>\n",
       "      <td>2015-08-14 17:00:11-07:00</td>\n",
       "      <td>61211</td>\n",
       "      <td>4</td>\n",
       "      <td>0</td>\n",
       "      <td>0</td>\n",
       "      <td>71.76</td>\n",
       "      <td>0</td>\n",
       "      <td>0</td>\n",
       "      <td>8</td>\n",
       "      <td>17</td>\n",
       "    </tr>\n",
       "    <tr>\n",
       "      <th>1</th>\n",
       "      <td>45</td>\n",
       "      <td>2015-08-14 17:20:14-07:00</td>\n",
       "      <td>62414</td>\n",
       "      <td>4</td>\n",
       "      <td>0</td>\n",
       "      <td>0</td>\n",
       "      <td>71.76</td>\n",
       "      <td>0</td>\n",
       "      <td>0</td>\n",
       "      <td>8</td>\n",
       "      <td>17</td>\n",
       "    </tr>\n",
       "    <tr>\n",
       "      <th>2</th>\n",
       "      <td>40</td>\n",
       "      <td>2015-08-14 17:30:15-07:00</td>\n",
       "      <td>63015</td>\n",
       "      <td>4</td>\n",
       "      <td>0</td>\n",
       "      <td>0</td>\n",
       "      <td>71.76</td>\n",
       "      <td>0</td>\n",
       "      <td>0</td>\n",
       "      <td>8</td>\n",
       "      <td>17</td>\n",
       "    </tr>\n",
       "    <tr>\n",
       "      <th>3</th>\n",
       "      <td>44</td>\n",
       "      <td>2015-08-14 17:40:16-07:00</td>\n",
       "      <td>63616</td>\n",
       "      <td>4</td>\n",
       "      <td>0</td>\n",
       "      <td>0</td>\n",
       "      <td>71.76</td>\n",
       "      <td>0</td>\n",
       "      <td>0</td>\n",
       "      <td>8</td>\n",
       "      <td>17</td>\n",
       "    </tr>\n",
       "    <tr>\n",
       "      <th>4</th>\n",
       "      <td>45</td>\n",
       "      <td>2015-08-14 17:50:17-07:00</td>\n",
       "      <td>64217</td>\n",
       "      <td>4</td>\n",
       "      <td>0</td>\n",
       "      <td>0</td>\n",
       "      <td>71.76</td>\n",
       "      <td>0</td>\n",
       "      <td>0</td>\n",
       "      <td>8</td>\n",
       "      <td>17</td>\n",
       "    </tr>\n",
       "    <tr>\n",
       "      <th>5</th>\n",
       "      <td>46</td>\n",
       "      <td>2015-08-14 18:00:18-07:00</td>\n",
       "      <td>64818</td>\n",
       "      <td>4</td>\n",
       "      <td>0</td>\n",
       "      <td>0</td>\n",
       "      <td>72.15</td>\n",
       "      <td>0</td>\n",
       "      <td>0</td>\n",
       "      <td>8</td>\n",
       "      <td>18</td>\n",
       "    </tr>\n",
       "    <tr>\n",
       "      <th>6</th>\n",
       "      <td>43</td>\n",
       "      <td>2015-08-14 18:20:08-07:00</td>\n",
       "      <td>66008</td>\n",
       "      <td>4</td>\n",
       "      <td>0</td>\n",
       "      <td>0</td>\n",
       "      <td>72.15</td>\n",
       "      <td>0</td>\n",
       "      <td>0</td>\n",
       "      <td>8</td>\n",
       "      <td>18</td>\n",
       "    </tr>\n",
       "    <tr>\n",
       "      <th>7</th>\n",
       "      <td>53</td>\n",
       "      <td>2015-08-14 18:30:09-07:00</td>\n",
       "      <td>66609</td>\n",
       "      <td>4</td>\n",
       "      <td>0</td>\n",
       "      <td>0</td>\n",
       "      <td>72.15</td>\n",
       "      <td>0</td>\n",
       "      <td>0</td>\n",
       "      <td>8</td>\n",
       "      <td>18</td>\n",
       "    </tr>\n",
       "    <tr>\n",
       "      <th>8</th>\n",
       "      <td>54</td>\n",
       "      <td>2015-08-14 18:40:14-07:00</td>\n",
       "      <td>67214</td>\n",
       "      <td>4</td>\n",
       "      <td>0</td>\n",
       "      <td>0</td>\n",
       "      <td>72.15</td>\n",
       "      <td>0</td>\n",
       "      <td>0</td>\n",
       "      <td>8</td>\n",
       "      <td>18</td>\n",
       "    </tr>\n",
       "    <tr>\n",
       "      <th>9</th>\n",
       "      <td>43</td>\n",
       "      <td>2015-08-14 18:50:15-07:00</td>\n",
       "      <td>67815</td>\n",
       "      <td>4</td>\n",
       "      <td>0</td>\n",
       "      <td>0</td>\n",
       "      <td>72.15</td>\n",
       "      <td>0</td>\n",
       "      <td>0</td>\n",
       "      <td>8</td>\n",
       "      <td>18</td>\n",
       "    </tr>\n",
       "    <tr>\n",
       "      <th>10</th>\n",
       "      <td>39</td>\n",
       "      <td>2015-08-14 19:00:16-07:00</td>\n",
       "      <td>68416</td>\n",
       "      <td>4</td>\n",
       "      <td>0</td>\n",
       "      <td>0</td>\n",
       "      <td>69.97</td>\n",
       "      <td>0</td>\n",
       "      <td>0</td>\n",
       "      <td>8</td>\n",
       "      <td>19</td>\n",
       "    </tr>\n",
       "    <tr>\n",
       "      <th>11</th>\n",
       "      <td>38</td>\n",
       "      <td>2015-08-14 19:20:07-07:00</td>\n",
       "      <td>69607</td>\n",
       "      <td>4</td>\n",
       "      <td>0</td>\n",
       "      <td>0</td>\n",
       "      <td>69.97</td>\n",
       "      <td>0</td>\n",
       "      <td>0</td>\n",
       "      <td>8</td>\n",
       "      <td>19</td>\n",
       "    </tr>\n",
       "    <tr>\n",
       "      <th>12</th>\n",
       "      <td>45</td>\n",
       "      <td>2015-08-14 19:30:08-07:00</td>\n",
       "      <td>70208</td>\n",
       "      <td>4</td>\n",
       "      <td>0</td>\n",
       "      <td>0</td>\n",
       "      <td>69.97</td>\n",
       "      <td>0</td>\n",
       "      <td>0</td>\n",
       "      <td>8</td>\n",
       "      <td>19</td>\n",
       "    </tr>\n",
       "    <tr>\n",
       "      <th>13</th>\n",
       "      <td>41</td>\n",
       "      <td>2015-08-14 19:40:14-07:00</td>\n",
       "      <td>70814</td>\n",
       "      <td>4</td>\n",
       "      <td>0</td>\n",
       "      <td>0</td>\n",
       "      <td>69.97</td>\n",
       "      <td>0</td>\n",
       "      <td>0</td>\n",
       "      <td>8</td>\n",
       "      <td>19</td>\n",
       "    </tr>\n",
       "    <tr>\n",
       "      <th>14</th>\n",
       "      <td>36</td>\n",
       "      <td>2015-08-14 19:50:16-07:00</td>\n",
       "      <td>71416</td>\n",
       "      <td>4</td>\n",
       "      <td>0</td>\n",
       "      <td>0</td>\n",
       "      <td>69.97</td>\n",
       "      <td>0</td>\n",
       "      <td>0</td>\n",
       "      <td>8</td>\n",
       "      <td>19</td>\n",
       "    </tr>\n",
       "  </tbody>\n",
       "</table>\n",
       "</div>"
      ],
      "text/plain": [
       "    number_people                       date  timestamp  day_of_week  \\\n",
       "0              37  2015-08-14 17:00:11-07:00      61211            4   \n",
       "1              45  2015-08-14 17:20:14-07:00      62414            4   \n",
       "2              40  2015-08-14 17:30:15-07:00      63015            4   \n",
       "3              44  2015-08-14 17:40:16-07:00      63616            4   \n",
       "4              45  2015-08-14 17:50:17-07:00      64217            4   \n",
       "5              46  2015-08-14 18:00:18-07:00      64818            4   \n",
       "6              43  2015-08-14 18:20:08-07:00      66008            4   \n",
       "7              53  2015-08-14 18:30:09-07:00      66609            4   \n",
       "8              54  2015-08-14 18:40:14-07:00      67214            4   \n",
       "9              43  2015-08-14 18:50:15-07:00      67815            4   \n",
       "10             39  2015-08-14 19:00:16-07:00      68416            4   \n",
       "11             38  2015-08-14 19:20:07-07:00      69607            4   \n",
       "12             45  2015-08-14 19:30:08-07:00      70208            4   \n",
       "13             41  2015-08-14 19:40:14-07:00      70814            4   \n",
       "14             36  2015-08-14 19:50:16-07:00      71416            4   \n",
       "\n",
       "    is_weekend  is_holiday  temperature  is_start_of_semester  \\\n",
       "0            0           0        71.76                     0   \n",
       "1            0           0        71.76                     0   \n",
       "2            0           0        71.76                     0   \n",
       "3            0           0        71.76                     0   \n",
       "4            0           0        71.76                     0   \n",
       "5            0           0        72.15                     0   \n",
       "6            0           0        72.15                     0   \n",
       "7            0           0        72.15                     0   \n",
       "8            0           0        72.15                     0   \n",
       "9            0           0        72.15                     0   \n",
       "10           0           0        69.97                     0   \n",
       "11           0           0        69.97                     0   \n",
       "12           0           0        69.97                     0   \n",
       "13           0           0        69.97                     0   \n",
       "14           0           0        69.97                     0   \n",
       "\n",
       "    is_during_semester  month  hour  \n",
       "0                    0      8    17  \n",
       "1                    0      8    17  \n",
       "2                    0      8    17  \n",
       "3                    0      8    17  \n",
       "4                    0      8    17  \n",
       "5                    0      8    18  \n",
       "6                    0      8    18  \n",
       "7                    0      8    18  \n",
       "8                    0      8    18  \n",
       "9                    0      8    18  \n",
       "10                   0      8    19  \n",
       "11                   0      8    19  \n",
       "12                   0      8    19  \n",
       "13                   0      8    19  \n",
       "14                   0      8    19  "
      ]
     },
     "execution_count": 7,
     "metadata": {},
     "output_type": "execute_result"
    }
   ],
   "source": [
    "# Loading the data\n",
    "gym = pd.read_csv(\"data.csv\")\n",
    "gym.head(15)"
   ]
  },
  {
   "cell_type": "code",
   "execution_count": 8,
   "metadata": {},
   "outputs": [
    {
     "data": {
      "text/html": [
       "<div>\n",
       "<style scoped>\n",
       "    .dataframe tbody tr th:only-of-type {\n",
       "        vertical-align: middle;\n",
       "    }\n",
       "\n",
       "    .dataframe tbody tr th {\n",
       "        vertical-align: top;\n",
       "    }\n",
       "\n",
       "    .dataframe thead th {\n",
       "        text-align: right;\n",
       "    }\n",
       "</style>\n",
       "<table border=\"1\" class=\"dataframe\">\n",
       "  <thead>\n",
       "    <tr style=\"text-align: right;\">\n",
       "      <th></th>\n",
       "      <th>number_people</th>\n",
       "      <th>timestamp</th>\n",
       "      <th>day_of_week</th>\n",
       "      <th>is_weekend</th>\n",
       "      <th>is_holiday</th>\n",
       "      <th>temperature</th>\n",
       "      <th>is_start_of_semester</th>\n",
       "      <th>is_during_semester</th>\n",
       "      <th>month</th>\n",
       "      <th>hour</th>\n",
       "    </tr>\n",
       "  </thead>\n",
       "  <tbody>\n",
       "    <tr>\n",
       "      <th>count</th>\n",
       "      <td>62184.000000</td>\n",
       "      <td>62184.000000</td>\n",
       "      <td>62184.000000</td>\n",
       "      <td>62184.000000</td>\n",
       "      <td>62184.000000</td>\n",
       "      <td>62184.000000</td>\n",
       "      <td>62184.000000</td>\n",
       "      <td>62184.000000</td>\n",
       "      <td>62184.000000</td>\n",
       "      <td>62184.000000</td>\n",
       "    </tr>\n",
       "    <tr>\n",
       "      <th>mean</th>\n",
       "      <td>29.072543</td>\n",
       "      <td>45799.437958</td>\n",
       "      <td>2.982504</td>\n",
       "      <td>0.282870</td>\n",
       "      <td>0.002573</td>\n",
       "      <td>58.557108</td>\n",
       "      <td>0.078831</td>\n",
       "      <td>0.660218</td>\n",
       "      <td>7.439824</td>\n",
       "      <td>12.236460</td>\n",
       "    </tr>\n",
       "    <tr>\n",
       "      <th>std</th>\n",
       "      <td>22.689026</td>\n",
       "      <td>24211.275891</td>\n",
       "      <td>1.996825</td>\n",
       "      <td>0.450398</td>\n",
       "      <td>0.050660</td>\n",
       "      <td>6.316396</td>\n",
       "      <td>0.269476</td>\n",
       "      <td>0.473639</td>\n",
       "      <td>3.445069</td>\n",
       "      <td>6.717631</td>\n",
       "    </tr>\n",
       "    <tr>\n",
       "      <th>min</th>\n",
       "      <td>0.000000</td>\n",
       "      <td>0.000000</td>\n",
       "      <td>0.000000</td>\n",
       "      <td>0.000000</td>\n",
       "      <td>0.000000</td>\n",
       "      <td>38.140000</td>\n",
       "      <td>0.000000</td>\n",
       "      <td>0.000000</td>\n",
       "      <td>1.000000</td>\n",
       "      <td>0.000000</td>\n",
       "    </tr>\n",
       "    <tr>\n",
       "      <th>25%</th>\n",
       "      <td>9.000000</td>\n",
       "      <td>26624.000000</td>\n",
       "      <td>1.000000</td>\n",
       "      <td>0.000000</td>\n",
       "      <td>0.000000</td>\n",
       "      <td>55.000000</td>\n",
       "      <td>0.000000</td>\n",
       "      <td>0.000000</td>\n",
       "      <td>5.000000</td>\n",
       "      <td>7.000000</td>\n",
       "    </tr>\n",
       "    <tr>\n",
       "      <th>50%</th>\n",
       "      <td>28.000000</td>\n",
       "      <td>46522.500000</td>\n",
       "      <td>3.000000</td>\n",
       "      <td>0.000000</td>\n",
       "      <td>0.000000</td>\n",
       "      <td>58.340000</td>\n",
       "      <td>0.000000</td>\n",
       "      <td>1.000000</td>\n",
       "      <td>8.000000</td>\n",
       "      <td>12.000000</td>\n",
       "    </tr>\n",
       "    <tr>\n",
       "      <th>75%</th>\n",
       "      <td>43.000000</td>\n",
       "      <td>66612.000000</td>\n",
       "      <td>5.000000</td>\n",
       "      <td>1.000000</td>\n",
       "      <td>0.000000</td>\n",
       "      <td>62.280000</td>\n",
       "      <td>0.000000</td>\n",
       "      <td>1.000000</td>\n",
       "      <td>10.000000</td>\n",
       "      <td>18.000000</td>\n",
       "    </tr>\n",
       "    <tr>\n",
       "      <th>max</th>\n",
       "      <td>145.000000</td>\n",
       "      <td>86399.000000</td>\n",
       "      <td>6.000000</td>\n",
       "      <td>1.000000</td>\n",
       "      <td>1.000000</td>\n",
       "      <td>87.170000</td>\n",
       "      <td>1.000000</td>\n",
       "      <td>1.000000</td>\n",
       "      <td>12.000000</td>\n",
       "      <td>23.000000</td>\n",
       "    </tr>\n",
       "  </tbody>\n",
       "</table>\n",
       "</div>"
      ],
      "text/plain": [
       "       number_people     timestamp   day_of_week    is_weekend    is_holiday  \\\n",
       "count   62184.000000  62184.000000  62184.000000  62184.000000  62184.000000   \n",
       "mean       29.072543  45799.437958      2.982504      0.282870      0.002573   \n",
       "std        22.689026  24211.275891      1.996825      0.450398      0.050660   \n",
       "min         0.000000      0.000000      0.000000      0.000000      0.000000   \n",
       "25%         9.000000  26624.000000      1.000000      0.000000      0.000000   \n",
       "50%        28.000000  46522.500000      3.000000      0.000000      0.000000   \n",
       "75%        43.000000  66612.000000      5.000000      1.000000      0.000000   \n",
       "max       145.000000  86399.000000      6.000000      1.000000      1.000000   \n",
       "\n",
       "        temperature  is_start_of_semester  is_during_semester         month  \\\n",
       "count  62184.000000          62184.000000        62184.000000  62184.000000   \n",
       "mean      58.557108              0.078831            0.660218      7.439824   \n",
       "std        6.316396              0.269476            0.473639      3.445069   \n",
       "min       38.140000              0.000000            0.000000      1.000000   \n",
       "25%       55.000000              0.000000            0.000000      5.000000   \n",
       "50%       58.340000              0.000000            1.000000      8.000000   \n",
       "75%       62.280000              0.000000            1.000000     10.000000   \n",
       "max       87.170000              1.000000            1.000000     12.000000   \n",
       "\n",
       "               hour  \n",
       "count  62184.000000  \n",
       "mean      12.236460  \n",
       "std        6.717631  \n",
       "min        0.000000  \n",
       "25%        7.000000  \n",
       "50%       12.000000  \n",
       "75%       18.000000  \n",
       "max       23.000000  "
      ]
     },
     "execution_count": 8,
     "metadata": {},
     "output_type": "execute_result"
    }
   ],
   "source": [
    "# Descriptive statistics\n",
    "gym.describe()"
   ]
  },
  {
   "cell_type": "markdown",
   "metadata": {},
   "source": [
    "Insights:\n",
    "* The number of people at each timestamp ranges from 0 to 145 people. \n",
    "* The day of the week and month were recorded numerically from 0 (monday) to 6 (Sunday) and 1 (January) to 12 (December), respectively. \n",
    "* Hours are recorded on 23-hour format from 0 (midnight) to 23 (11pm). \n",
    "* Boolean variables are recorded as 0 for False and 1 for True. \n",
    "* Temperatures were recorded in degrees farenheit and are within a reasonable range for a location in the USA."
   ]
  },
  {
   "cell_type": "code",
   "execution_count": 9,
   "metadata": {},
   "outputs": [
    {
     "name": "stdout",
     "output_type": "stream",
     "text": [
      "<class 'pandas.core.frame.DataFrame'>\n",
      "RangeIndex: 62184 entries, 0 to 62183\n",
      "Data columns (total 11 columns):\n",
      " #   Column                Non-Null Count  Dtype  \n",
      "---  ------                --------------  -----  \n",
      " 0   number_people         62184 non-null  int64  \n",
      " 1   date                  62184 non-null  object \n",
      " 2   timestamp             62184 non-null  int64  \n",
      " 3   day_of_week           62184 non-null  int64  \n",
      " 4   is_weekend            62184 non-null  int64  \n",
      " 5   is_holiday            62184 non-null  int64  \n",
      " 6   temperature           62184 non-null  float64\n",
      " 7   is_start_of_semester  62184 non-null  int64  \n",
      " 8   is_during_semester    62184 non-null  int64  \n",
      " 9   month                 62184 non-null  int64  \n",
      " 10  hour                  62184 non-null  int64  \n",
      "dtypes: float64(1), int64(9), object(1)\n",
      "memory usage: 5.2+ MB\n"
     ]
    },
    {
     "data": {
      "text/plain": [
       "number_people           0\n",
       "date                    0\n",
       "timestamp               0\n",
       "day_of_week             0\n",
       "is_weekend              0\n",
       "is_holiday              0\n",
       "temperature             0\n",
       "is_start_of_semester    0\n",
       "is_during_semester      0\n",
       "month                   0\n",
       "hour                    0\n",
       "dtype: int64"
      ]
     },
     "execution_count": 9,
     "metadata": {},
     "output_type": "execute_result"
    }
   ],
   "source": [
    "# Data characteristics\n",
    "gym.info()\n",
    "gym.isnull().sum()"
   ]
  },
  {
   "cell_type": "markdown",
   "metadata": {},
   "source": [
    "Insights:\n",
    "* The date and boolean variables need to be changed to the correct data types.\n",
    "* There is no missing data in this dataset."
   ]
  },
  {
   "cell_type": "code",
   "execution_count": 10,
   "metadata": {},
   "outputs": [
    {
     "name": "stdout",
     "output_type": "stream",
     "text": [
      "<class 'pandas.core.frame.DataFrame'>\n",
      "RangeIndex: 62184 entries, 0 to 62183\n",
      "Data columns (total 11 columns):\n",
      " #   Column                Non-Null Count  Dtype         \n",
      "---  ------                --------------  -----         \n",
      " 0   number_people         62184 non-null  int64         \n",
      " 1   date                  62184 non-null  datetime64[ns]\n",
      " 2   timestamp             62184 non-null  int64         \n",
      " 3   day_of_week           62184 non-null  int64         \n",
      " 4   is_weekend            62184 non-null  int64         \n",
      " 5   is_holiday            62184 non-null  int64         \n",
      " 6   temperature           62184 non-null  float64       \n",
      " 7   is_start_of_semester  62184 non-null  int64         \n",
      " 8   is_during_semester    62184 non-null  int64         \n",
      " 9   month                 62184 non-null  int64         \n",
      " 10  hour                  62184 non-null  int64         \n",
      "dtypes: datetime64[ns](1), float64(1), int64(9)\n",
      "memory usage: 5.2 MB\n"
     ]
    }
   ],
   "source": [
    "# Changing date data type\n",
    "import dateutil\n",
    "gym['date'] = gym['date'].apply(dateutil.parser.parse, ignoretz = True)\n",
    "gym.info()"
   ]
  },
  {
   "cell_type": "code",
   "execution_count": 11,
   "metadata": {},
   "outputs": [
    {
     "name": "stdout",
     "output_type": "stream",
     "text": [
      "<class 'pandas.core.frame.DataFrame'>\n",
      "RangeIndex: 62184 entries, 0 to 62183\n",
      "Data columns (total 11 columns):\n",
      " #   Column                Non-Null Count  Dtype         \n",
      "---  ------                --------------  -----         \n",
      " 0   number_people         62184 non-null  int64         \n",
      " 1   date                  62184 non-null  datetime64[ns]\n",
      " 2   timestamp             62184 non-null  int64         \n",
      " 3   day_of_week           62184 non-null  int64         \n",
      " 4   is_weekend            62184 non-null  bool          \n",
      " 5   is_holiday            62184 non-null  bool          \n",
      " 6   temperature           62184 non-null  float64       \n",
      " 7   is_start_of_semester  62184 non-null  bool          \n",
      " 8   is_during_semester    62184 non-null  bool          \n",
      " 9   month                 62184 non-null  int64         \n",
      " 10  hour                  62184 non-null  int64         \n",
      "dtypes: bool(4), datetime64[ns](1), float64(1), int64(5)\n",
      "memory usage: 3.6 MB\n"
     ]
    }
   ],
   "source": [
    "# Changing variables to boolean\n",
    "gym[['is_weekend', 'is_holiday', 'is_start_of_semester', 'is_during_semester']] = gym[['is_weekend', 'is_holiday', 'is_start_of_semester', 'is_during_semester']].astype('bool')\n",
    "gym.info()"
   ]
  },
  {
   "cell_type": "code",
   "execution_count": 12,
   "metadata": {},
   "outputs": [
    {
     "data": {
      "text/html": [
       "<div>\n",
       "<style scoped>\n",
       "    .dataframe tbody tr th:only-of-type {\n",
       "        vertical-align: middle;\n",
       "    }\n",
       "\n",
       "    .dataframe tbody tr th {\n",
       "        vertical-align: top;\n",
       "    }\n",
       "\n",
       "    .dataframe thead th {\n",
       "        text-align: right;\n",
       "    }\n",
       "</style>\n",
       "<table border=\"1\" class=\"dataframe\">\n",
       "  <thead>\n",
       "    <tr style=\"text-align: right;\">\n",
       "      <th></th>\n",
       "      <th>number_people</th>\n",
       "      <th>date</th>\n",
       "      <th>timestamp</th>\n",
       "      <th>day_of_week</th>\n",
       "      <th>is_weekend</th>\n",
       "      <th>is_holiday</th>\n",
       "      <th>temperature</th>\n",
       "      <th>is_start_of_semester</th>\n",
       "      <th>is_during_semester</th>\n",
       "      <th>month</th>\n",
       "      <th>hour</th>\n",
       "    </tr>\n",
       "  </thead>\n",
       "  <tbody>\n",
       "    <tr>\n",
       "      <th>0</th>\n",
       "      <td>37</td>\n",
       "      <td>2015-08-14 17:00:11</td>\n",
       "      <td>61211</td>\n",
       "      <td>Fri</td>\n",
       "      <td>False</td>\n",
       "      <td>False</td>\n",
       "      <td>71.76</td>\n",
       "      <td>False</td>\n",
       "      <td>False</td>\n",
       "      <td>Aug</td>\n",
       "      <td>17</td>\n",
       "    </tr>\n",
       "    <tr>\n",
       "      <th>1</th>\n",
       "      <td>45</td>\n",
       "      <td>2015-08-14 17:20:14</td>\n",
       "      <td>62414</td>\n",
       "      <td>Fri</td>\n",
       "      <td>False</td>\n",
       "      <td>False</td>\n",
       "      <td>71.76</td>\n",
       "      <td>False</td>\n",
       "      <td>False</td>\n",
       "      <td>Aug</td>\n",
       "      <td>17</td>\n",
       "    </tr>\n",
       "    <tr>\n",
       "      <th>2</th>\n",
       "      <td>40</td>\n",
       "      <td>2015-08-14 17:30:15</td>\n",
       "      <td>63015</td>\n",
       "      <td>Fri</td>\n",
       "      <td>False</td>\n",
       "      <td>False</td>\n",
       "      <td>71.76</td>\n",
       "      <td>False</td>\n",
       "      <td>False</td>\n",
       "      <td>Aug</td>\n",
       "      <td>17</td>\n",
       "    </tr>\n",
       "    <tr>\n",
       "      <th>3</th>\n",
       "      <td>44</td>\n",
       "      <td>2015-08-14 17:40:16</td>\n",
       "      <td>63616</td>\n",
       "      <td>Fri</td>\n",
       "      <td>False</td>\n",
       "      <td>False</td>\n",
       "      <td>71.76</td>\n",
       "      <td>False</td>\n",
       "      <td>False</td>\n",
       "      <td>Aug</td>\n",
       "      <td>17</td>\n",
       "    </tr>\n",
       "    <tr>\n",
       "      <th>4</th>\n",
       "      <td>45</td>\n",
       "      <td>2015-08-14 17:50:17</td>\n",
       "      <td>64217</td>\n",
       "      <td>Fri</td>\n",
       "      <td>False</td>\n",
       "      <td>False</td>\n",
       "      <td>71.76</td>\n",
       "      <td>False</td>\n",
       "      <td>False</td>\n",
       "      <td>Aug</td>\n",
       "      <td>17</td>\n",
       "    </tr>\n",
       "  </tbody>\n",
       "</table>\n",
       "</div>"
      ],
      "text/plain": [
       "   number_people                date  timestamp day_of_week  is_weekend  \\\n",
       "0             37 2015-08-14 17:00:11      61211         Fri       False   \n",
       "1             45 2015-08-14 17:20:14      62414         Fri       False   \n",
       "2             40 2015-08-14 17:30:15      63015         Fri       False   \n",
       "3             44 2015-08-14 17:40:16      63616         Fri       False   \n",
       "4             45 2015-08-14 17:50:17      64217         Fri       False   \n",
       "\n",
       "   is_holiday  temperature  is_start_of_semester  is_during_semester month  \\\n",
       "0       False        71.76                 False               False   Aug   \n",
       "1       False        71.76                 False               False   Aug   \n",
       "2       False        71.76                 False               False   Aug   \n",
       "3       False        71.76                 False               False   Aug   \n",
       "4       False        71.76                 False               False   Aug   \n",
       "\n",
       "   hour  \n",
       "0    17  \n",
       "1    17  \n",
       "2    17  \n",
       "3    17  \n",
       "4    17  "
      ]
     },
     "execution_count": 12,
     "metadata": {},
     "output_type": "execute_result"
    }
   ],
   "source": [
    "# Adding month and day names\n",
    "months_days = {\"day_of_week\":     {0: \"Mon\", 1: \"Tue\", 2: \"Wed\", 3:\"Thu\", 4: \"Fri\", 5: \"Sat\", 6: \"Sun\"},\n",
    "                \"month\": {1: \"Jan\", 2: \"Feb\", 3:\"Mar\", 4: \"Apr\", 5: \"May\", 6: \"Jun\", 7: \"Jul\", 8: \"Aug\", 9:\"Sep\", 10: \"Oct\", 11: \"Nov\", 12: \"Dec\"}}\n",
    "gym.replace(months_days, inplace=True)\n",
    "gym.head()"
   ]
  },
  {
   "cell_type": "code",
   "execution_count": 13,
   "metadata": {},
   "outputs": [
    {
     "data": {
      "text/plain": [
       "0"
      ]
     },
     "execution_count": 13,
     "metadata": {},
     "output_type": "execute_result"
    }
   ],
   "source": [
    "# Checking for duplicates\n",
    "gym.duplicated().sum()"
   ]
  },
  {
   "cell_type": "markdown",
   "metadata": {},
   "source": [
    "The timestamp is the number of seconds since the beginning of the day, which will not be needed for this analysis and therefore this variable can be dropped. "
   ]
  },
  {
   "cell_type": "code",
   "execution_count": 14,
   "metadata": {
    "scrolled": false
   },
   "outputs": [
    {
     "data": {
      "text/html": [
       "<div>\n",
       "<style scoped>\n",
       "    .dataframe tbody tr th:only-of-type {\n",
       "        vertical-align: middle;\n",
       "    }\n",
       "\n",
       "    .dataframe tbody tr th {\n",
       "        vertical-align: top;\n",
       "    }\n",
       "\n",
       "    .dataframe thead th {\n",
       "        text-align: right;\n",
       "    }\n",
       "</style>\n",
       "<table border=\"1\" class=\"dataframe\">\n",
       "  <thead>\n",
       "    <tr style=\"text-align: right;\">\n",
       "      <th></th>\n",
       "      <th>number_people</th>\n",
       "      <th>date</th>\n",
       "      <th>day_of_week</th>\n",
       "      <th>is_weekend</th>\n",
       "      <th>is_holiday</th>\n",
       "      <th>temperature</th>\n",
       "      <th>is_start_of_semester</th>\n",
       "      <th>is_during_semester</th>\n",
       "      <th>month</th>\n",
       "      <th>hour</th>\n",
       "    </tr>\n",
       "  </thead>\n",
       "  <tbody>\n",
       "    <tr>\n",
       "      <th>0</th>\n",
       "      <td>37</td>\n",
       "      <td>2015-08-14 17:00:11</td>\n",
       "      <td>Fri</td>\n",
       "      <td>False</td>\n",
       "      <td>False</td>\n",
       "      <td>71.76</td>\n",
       "      <td>False</td>\n",
       "      <td>False</td>\n",
       "      <td>Aug</td>\n",
       "      <td>17</td>\n",
       "    </tr>\n",
       "    <tr>\n",
       "      <th>1</th>\n",
       "      <td>45</td>\n",
       "      <td>2015-08-14 17:20:14</td>\n",
       "      <td>Fri</td>\n",
       "      <td>False</td>\n",
       "      <td>False</td>\n",
       "      <td>71.76</td>\n",
       "      <td>False</td>\n",
       "      <td>False</td>\n",
       "      <td>Aug</td>\n",
       "      <td>17</td>\n",
       "    </tr>\n",
       "    <tr>\n",
       "      <th>2</th>\n",
       "      <td>40</td>\n",
       "      <td>2015-08-14 17:30:15</td>\n",
       "      <td>Fri</td>\n",
       "      <td>False</td>\n",
       "      <td>False</td>\n",
       "      <td>71.76</td>\n",
       "      <td>False</td>\n",
       "      <td>False</td>\n",
       "      <td>Aug</td>\n",
       "      <td>17</td>\n",
       "    </tr>\n",
       "    <tr>\n",
       "      <th>3</th>\n",
       "      <td>44</td>\n",
       "      <td>2015-08-14 17:40:16</td>\n",
       "      <td>Fri</td>\n",
       "      <td>False</td>\n",
       "      <td>False</td>\n",
       "      <td>71.76</td>\n",
       "      <td>False</td>\n",
       "      <td>False</td>\n",
       "      <td>Aug</td>\n",
       "      <td>17</td>\n",
       "    </tr>\n",
       "    <tr>\n",
       "      <th>4</th>\n",
       "      <td>45</td>\n",
       "      <td>2015-08-14 17:50:17</td>\n",
       "      <td>Fri</td>\n",
       "      <td>False</td>\n",
       "      <td>False</td>\n",
       "      <td>71.76</td>\n",
       "      <td>False</td>\n",
       "      <td>False</td>\n",
       "      <td>Aug</td>\n",
       "      <td>17</td>\n",
       "    </tr>\n",
       "  </tbody>\n",
       "</table>\n",
       "</div>"
      ],
      "text/plain": [
       "   number_people                date day_of_week  is_weekend  is_holiday  \\\n",
       "0             37 2015-08-14 17:00:11         Fri       False       False   \n",
       "1             45 2015-08-14 17:20:14         Fri       False       False   \n",
       "2             40 2015-08-14 17:30:15         Fri       False       False   \n",
       "3             44 2015-08-14 17:40:16         Fri       False       False   \n",
       "4             45 2015-08-14 17:50:17         Fri       False       False   \n",
       "\n",
       "   temperature  is_start_of_semester  is_during_semester month  hour  \n",
       "0        71.76                 False               False   Aug    17  \n",
       "1        71.76                 False               False   Aug    17  \n",
       "2        71.76                 False               False   Aug    17  \n",
       "3        71.76                 False               False   Aug    17  \n",
       "4        71.76                 False               False   Aug    17  "
      ]
     },
     "execution_count": 14,
     "metadata": {},
     "output_type": "execute_result"
    }
   ],
   "source": [
    "# Dropping timestamp column\n",
    "df = gym.drop(columns =['timestamp'])\n",
    "df.head()"
   ]
  },
  {
   "cell_type": "code",
   "execution_count": 15,
   "metadata": {},
   "outputs": [],
   "source": [
    "# Exporting cleaned data\n",
    "df.to_csv(\"gym_cleaned.csv\")"
   ]
  },
  {
   "cell_type": "code",
   "execution_count": 16,
   "metadata": {
    "scrolled": true
   },
   "outputs": [
    {
     "data": {
      "text/plain": [
       "<matplotlib.axes._subplots.AxesSubplot at 0x20dcb3ac208>"
      ]
     },
     "execution_count": 16,
     "metadata": {},
     "output_type": "execute_result"
    },
    {
     "data": {
      "image/png": "[encoded data removed]",
      "text/plain": [
       "<Figure size 432x288 with 1 Axes>"
      ]
     },
     "metadata": {
      "needs_background": "light"
     },
     "output_type": "display_data"
    }
   ],
   "source": [
    "# Checking distribution of records - hour\n",
    "sns.countplot(data = df, x = 'hour')"
   ]
  },
  {
   "cell_type": "markdown",
   "metadata": {},
   "source": [
    "There are less records from the morning hours but the rest are almost even."
   ]
  },
  {
   "cell_type": "code",
   "execution_count": 17,
   "metadata": {},
   "outputs": [
    {
     "data": {
      "text/plain": [
       "<matplotlib.axes._subplots.AxesSubplot at 0x20dcb4e7808>"
      ]
     },
     "execution_count": 17,
     "metadata": {},
     "output_type": "execute_result"
    },
    {
     "data": {
      "image/png": "[encoded data removed]",
      "text/plain": [
       "<Figure size 432x288 with 1 Axes>"
      ]
     },
     "metadata": {
      "needs_background": "light"
     },
     "output_type": "display_data"
    }
   ],
   "source": [
    "# Checking distribution of records - day of week\n",
    "sns.countplot(data = df, x = 'day_of_week')"
   ]
  },
  {
   "cell_type": "markdown",
   "metadata": {},
   "source": [
    "Data was collected relatively evenly across days of the week."
   ]
  },
  {
   "cell_type": "code",
   "execution_count": 18,
   "metadata": {
    "scrolled": true
   },
   "outputs": [
    {
     "data": {
      "text/plain": [
       "<matplotlib.axes._subplots.AxesSubplot at 0x20dcc303888>"
      ]
     },
     "execution_count": 18,
     "metadata": {},
     "output_type": "execute_result"
    },
    {
     "data": {
      "image/png": "[encoded data removed]",
      "text/plain": [
       "<Figure size 432x288 with 1 Axes>"
      ]
     },
     "metadata": {
      "needs_background": "light"
     },
     "output_type": "display_data"
    }
   ],
   "source": [
    "# Checking distribution of records - month\n",
    "sns.countplot(data = df, x = 'month')"
   ]
  },
  {
   "cell_type": "markdown",
   "metadata": {},
   "source": [
    "There are more data points from the later months of the year, therefore sum should not be used as a measure for number of people."
   ]
  },
  {
   "cell_type": "code",
   "execution_count": 19,
   "metadata": {},
   "outputs": [
    {
     "data": {
      "text/plain": [
       "<matplotlib.axes._subplots.AxesSubplot at 0x20dc8a0d6c8>"
      ]
     },
     "execution_count": 19,
     "metadata": {},
     "output_type": "execute_result"
    },
    {
     "data": {
      "image/png": "[encoded data removed]",
      "text/plain": [
       "<Figure size 432x288 with 1 Axes>"
      ]
     },
     "metadata": {
      "needs_background": "light"
     },
     "output_type": "display_data"
    }
   ],
   "source": [
    "# Distribution - number of people\n",
    "sns.distplot(df['number_people'])"
   ]
  },
  {
   "cell_type": "markdown",
   "metadata": {},
   "source": [
    "There are multiple records where there are 0 people at the gym."
   ]
  },
  {
   "cell_type": "markdown",
   "metadata": {},
   "source": [
    "## 1. What is the least busy hour and day at the gym?"
   ]
  },
  {
   "cell_type": "code",
   "execution_count": 20,
   "metadata": {},
   "outputs": [
    {
     "data": {
      "text/html": [
       "<div>\n",
       "<style scoped>\n",
       "    .dataframe tbody tr th:only-of-type {\n",
       "        vertical-align: middle;\n",
       "    }\n",
       "\n",
       "    .dataframe tbody tr th {\n",
       "        vertical-align: top;\n",
       "    }\n",
       "\n",
       "    .dataframe thead th {\n",
       "        text-align: right;\n",
       "    }\n",
       "</style>\n",
       "<table border=\"1\" class=\"dataframe\">\n",
       "  <thead>\n",
       "    <tr style=\"text-align: right;\">\n",
       "      <th></th>\n",
       "      <th>total</th>\n",
       "      <th>average</th>\n",
       "    </tr>\n",
       "    <tr>\n",
       "      <th>hour</th>\n",
       "      <th></th>\n",
       "      <th></th>\n",
       "    </tr>\n",
       "  </thead>\n",
       "  <tbody>\n",
       "    <tr>\n",
       "      <th>0</th>\n",
       "      <td>43837</td>\n",
       "      <td>14.720282</td>\n",
       "    </tr>\n",
       "    <tr>\n",
       "      <th>1</th>\n",
       "      <td>4284</td>\n",
       "      <td>2.404040</td>\n",
       "    </tr>\n",
       "    <tr>\n",
       "      <th>2</th>\n",
       "      <td>271</td>\n",
       "      <td>0.178289</td>\n",
       "    </tr>\n",
       "    <tr>\n",
       "      <th>3</th>\n",
       "      <td>220</td>\n",
       "      <td>0.145023</td>\n",
       "    </tr>\n",
       "    <tr>\n",
       "      <th>4</th>\n",
       "      <td>401</td>\n",
       "      <td>0.279054</td>\n",
       "    </tr>\n",
       "    <tr>\n",
       "      <th>5</th>\n",
       "      <td>2551</td>\n",
       "      <td>1.045063</td>\n",
       "    </tr>\n",
       "    <tr>\n",
       "      <th>6</th>\n",
       "      <td>24169</td>\n",
       "      <td>8.763234</td>\n",
       "    </tr>\n",
       "    <tr>\n",
       "      <th>7</th>\n",
       "      <td>42962</td>\n",
       "      <td>15.393049</td>\n",
       "    </tr>\n",
       "    <tr>\n",
       "      <th>8</th>\n",
       "      <td>67304</td>\n",
       "      <td>24.054325</td>\n",
       "    </tr>\n",
       "    <tr>\n",
       "      <th>9</th>\n",
       "      <td>84502</td>\n",
       "      <td>30.190068</td>\n",
       "    </tr>\n",
       "    <tr>\n",
       "      <th>10</th>\n",
       "      <td>94320</td>\n",
       "      <td>33.733906</td>\n",
       "    </tr>\n",
       "    <tr>\n",
       "      <th>11</th>\n",
       "      <td>101089</td>\n",
       "      <td>36.219635</td>\n",
       "    </tr>\n",
       "    <tr>\n",
       "      <th>12</th>\n",
       "      <td>101290</td>\n",
       "      <td>36.110517</td>\n",
       "    </tr>\n",
       "    <tr>\n",
       "      <th>13</th>\n",
       "      <td>97219</td>\n",
       "      <td>34.572902</td>\n",
       "    </tr>\n",
       "    <tr>\n",
       "      <th>14</th>\n",
       "      <td>94566</td>\n",
       "      <td>33.931109</td>\n",
       "    </tr>\n",
       "    <tr>\n",
       "      <th>15</th>\n",
       "      <td>103335</td>\n",
       "      <td>37.197624</td>\n",
       "    </tr>\n",
       "    <tr>\n",
       "      <th>16</th>\n",
       "      <td>120630</td>\n",
       "      <td>42.959402</td>\n",
       "    </tr>\n",
       "    <tr>\n",
       "      <th>17</th>\n",
       "      <td>138673</td>\n",
       "      <td>47.637582</td>\n",
       "    </tr>\n",
       "    <tr>\n",
       "      <th>18</th>\n",
       "      <td>137021</td>\n",
       "      <td>48.297850</td>\n",
       "    </tr>\n",
       "    <tr>\n",
       "      <th>19</th>\n",
       "      <td>126125</td>\n",
       "      <td>44.741043</td>\n",
       "    </tr>\n",
       "    <tr>\n",
       "      <th>20</th>\n",
       "      <td>116467</td>\n",
       "      <td>41.669767</td>\n",
       "    </tr>\n",
       "    <tr>\n",
       "      <th>21</th>\n",
       "      <td>119282</td>\n",
       "      <td>42.922634</td>\n",
       "    </tr>\n",
       "    <tr>\n",
       "      <th>22</th>\n",
       "      <td>112287</td>\n",
       "      <td>40.463784</td>\n",
       "    </tr>\n",
       "    <tr>\n",
       "      <th>23</th>\n",
       "      <td>75042</td>\n",
       "      <td>26.147038</td>\n",
       "    </tr>\n",
       "  </tbody>\n",
       "</table>\n",
       "</div>"
      ],
      "text/plain": [
       "       total    average\n",
       "hour                   \n",
       "0      43837  14.720282\n",
       "1       4284   2.404040\n",
       "2        271   0.178289\n",
       "3        220   0.145023\n",
       "4        401   0.279054\n",
       "5       2551   1.045063\n",
       "6      24169   8.763234\n",
       "7      42962  15.393049\n",
       "8      67304  24.054325\n",
       "9      84502  30.190068\n",
       "10     94320  33.733906\n",
       "11    101089  36.219635\n",
       "12    101290  36.110517\n",
       "13     97219  34.572902\n",
       "14     94566  33.931109\n",
       "15    103335  37.197624\n",
       "16    120630  42.959402\n",
       "17    138673  47.637582\n",
       "18    137021  48.297850\n",
       "19    126125  44.741043\n",
       "20    116467  41.669767\n",
       "21    119282  42.922634\n",
       "22    112287  40.463784\n",
       "23     75042  26.147038"
      ]
     },
     "execution_count": 20,
     "metadata": {},
     "output_type": "execute_result"
    }
   ],
   "source": [
    "# Table of average number of people by hour\n",
    "df.groupby('hour').agg(total = ('number_people', 'sum'), average = ('number_people', 'mean'))"
   ]
  },
  {
   "cell_type": "markdown",
   "metadata": {},
   "source": [
    "The least busy hours are between midnight and 8am. The gym is most crowded between 4 pm and 11 pm, with the most people attending between 6 and 7 pm."
   ]
  },
  {
   "cell_type": "code",
   "execution_count": 81,
   "metadata": {},
   "outputs": [
    {
     "data": {
      "image/png": "[encoded data removed]",
      "text/plain": [
       "<Figure size 576x432 with 1 Axes>"
      ]
     },
     "metadata": {},
     "output_type": "display_data"
    }
   ],
   "source": [
    "# Number of people by hour\n",
    "sns.set(style='white')\n",
    "sns.set_context('notebook')\n",
    "plt.figure(figsize = (8, 6))\n",
    "sns.lineplot(data = df, x = 'hour', y = 'number_people')\n",
    "plt.title('Number of people at the gym by hour', pad =10)\n",
    "plt.ylabel(\"Number of people\")\n",
    "plt.xlabel('Hour')\n",
    "plt.show()"
   ]
  },
  {
   "cell_type": "markdown",
   "metadata": {},
   "source": [
    "From the plot and table above, the gym is least busy between 12am and 8am."
   ]
  },
  {
   "cell_type": "code",
   "execution_count": 22,
   "metadata": {},
   "outputs": [
    {
     "data": {
      "text/html": [
       "<div>\n",
       "<style scoped>\n",
       "    .dataframe tbody tr th:only-of-type {\n",
       "        vertical-align: middle;\n",
       "    }\n",
       "\n",
       "    .dataframe tbody tr th {\n",
       "        vertical-align: top;\n",
       "    }\n",
       "\n",
       "    .dataframe thead th {\n",
       "        text-align: right;\n",
       "    }\n",
       "</style>\n",
       "<table border=\"1\" class=\"dataframe\">\n",
       "  <thead>\n",
       "    <tr style=\"text-align: right;\">\n",
       "      <th></th>\n",
       "      <th>total</th>\n",
       "      <th>average</th>\n",
       "    </tr>\n",
       "    <tr>\n",
       "      <th>day_of_week</th>\n",
       "      <th></th>\n",
       "      <th></th>\n",
       "    </tr>\n",
       "  </thead>\n",
       "  <tbody>\n",
       "    <tr>\n",
       "      <th>Fri</th>\n",
       "      <td>261196</td>\n",
       "      <td>29.957105</td>\n",
       "    </tr>\n",
       "    <tr>\n",
       "      <th>Mon</th>\n",
       "      <td>288590</td>\n",
       "      <td>32.653315</td>\n",
       "    </tr>\n",
       "    <tr>\n",
       "      <th>Sat</th>\n",
       "      <td>202524</td>\n",
       "      <td>22.956699</td>\n",
       "    </tr>\n",
       "    <tr>\n",
       "      <th>Sun</th>\n",
       "      <td>198320</td>\n",
       "      <td>22.618613</td>\n",
       "    </tr>\n",
       "    <tr>\n",
       "      <th>Thu</th>\n",
       "      <td>269721</td>\n",
       "      <td>30.217455</td>\n",
       "    </tr>\n",
       "    <tr>\n",
       "      <th>Tue</th>\n",
       "      <td>296140</td>\n",
       "      <td>32.435926</td>\n",
       "    </tr>\n",
       "    <tr>\n",
       "      <th>Wed</th>\n",
       "      <td>291356</td>\n",
       "      <td>32.441376</td>\n",
       "    </tr>\n",
       "  </tbody>\n",
       "</table>\n",
       "</div>"
      ],
      "text/plain": [
       "              total    average\n",
       "day_of_week                   \n",
       "Fri          261196  29.957105\n",
       "Mon          288590  32.653315\n",
       "Sat          202524  22.956699\n",
       "Sun          198320  22.618613\n",
       "Thu          269721  30.217455\n",
       "Tue          296140  32.435926\n",
       "Wed          291356  32.441376"
      ]
     },
     "execution_count": 22,
     "metadata": {},
     "output_type": "execute_result"
    }
   ],
   "source": [
    "# Table of average number of people by day of the week\n",
    "df.groupby('day_of_week').agg(total = ('number_people', 'sum'), average = ('number_people', 'mean'))"
   ]
  },
  {
   "cell_type": "markdown",
   "metadata": {},
   "source": [
    "The gym is least busy during the weekend, and most busy at the beginning of the week."
   ]
  },
  {
   "cell_type": "code",
   "execution_count": 82,
   "metadata": {},
   "outputs": [
    {
     "data": {
      "image/png": "[encoded data removed]",
      "text/plain": [
       "<Figure size 576x432 with 1 Axes>"
      ]
     },
     "metadata": {},
     "output_type": "display_data"
    }
   ],
   "source": [
    "# Number of people by day of the week\n",
    "order = ['Mon', 'Tue', 'Wed', 'Thu', 'Fri', 'Sat', 'Sun']\n",
    "plt.figure(figsize = (8, 6))\n",
    "sns.pointplot(data = df, x = 'day_of_week', y = 'number_people', hue = 'is_weekend', palette = 'husl', order = order)\n",
    "plt.title('Number of people at the gym by day of the week')\n",
    "plt.ylabel(\"Number of people\")\n",
    "plt.xlabel('Day of the week')\n",
    "plt.show()"
   ]
  },
  {
   "cell_type": "markdown",
   "metadata": {},
   "source": [
    "From the plot and table above, the gym is least busy during the weekend. "
   ]
  },
  {
   "cell_type": "code",
   "execution_count": 24,
   "metadata": {},
   "outputs": [
    {
     "data": {
      "text/plain": [
       "hour\n",
       "0     0.011723\n",
       "1     0.016853\n",
       "2     0.020632\n",
       "3     0.021308\n",
       "4     0.017706\n",
       "5     0.017545\n",
       "6     0.009745\n",
       "7     0.005371\n",
       "8     0.001270\n",
       "9     0.001077\n",
       "10    0.000627\n",
       "11    0.000338\n",
       "12    0.000257\n",
       "13    0.000241\n",
       "14    0.000289\n",
       "15    0.000402\n",
       "16    0.000418\n",
       "17    0.000370\n",
       "18    0.000547\n",
       "19    0.001142\n",
       "20    0.001785\n",
       "21    0.002509\n",
       "22    0.002557\n",
       "23    0.006400\n",
       "dtype: float64"
      ]
     },
     "execution_count": 24,
     "metadata": {},
     "output_type": "execute_result"
    }
   ],
   "source": [
    "# Probability of finding no one at the gym at a certain hour\n",
    "df[df['number_people'] == 0].groupby('hour').size().div(len(df))"
   ]
  },
  {
   "cell_type": "code",
   "execution_count": 25,
   "metadata": {},
   "outputs": [
    {
     "data": {
      "text/plain": [
       "day_of_week\n",
       "Fri    0.016885\n",
       "Mon    0.017062\n",
       "Sat    0.027596\n",
       "Sun    0.031471\n",
       "Thu    0.017786\n",
       "Tue    0.015149\n",
       "Wed    0.015165\n",
       "dtype: float64"
      ]
     },
     "execution_count": 25,
     "metadata": {},
     "output_type": "execute_result"
    }
   ],
   "source": [
    "# Probability of finding no one at the gym - day of the week\n",
    "df[df['number_people'] == 0].groupby('day_of_week', as_index = False).size().div(len(df))"
   ]
  },
  {
   "cell_type": "code",
   "execution_count": 26,
   "metadata": {},
   "outputs": [
    {
     "data": {
      "image/png": "[encoded data removed]",
      "text/plain": [
       "<Figure size 432x288 with 2 Axes>"
      ]
     },
     "metadata": {
      "needs_background": "light"
     },
     "output_type": "display_data"
    }
   ],
   "source": [
    "# Plotting likelihood of finding the gym empty by hour and day of week\n",
    "fig, (ax1, ax2) = plt.subplots(1, 2)\n",
    "fig.suptitle('Probability of finding the gym empty')\n",
    "ax1.plot(df[df['number_people'] == 0].groupby('hour').size().div(len(df)), 'tab:orange', marker = 'x')\n",
    "ax1.set_ylabel('Probability')\n",
    "ax1.set_xlabel('Hour')\n",
    "ax2.plot(df[df['number_people'] == 0].groupby('day_of_week').size().div(len(df)), 'tab:purple', marker = '*')\n",
    "ax2.set_xlabel('Day of the week')\n",
    "ax2.set_ylabel('Probability')\n",
    "ax2.yaxis.set_label_position(\"right\")\n",
    "ax2.yaxis.tick_right()\n",
    "plt.show()"
   ]
  },
  {
   "cell_type": "markdown",
   "metadata": {},
   "source": [
    "From the analysis above, the gym is more likely to be empty between midnight and early morning hours, and during the weekend."
   ]
  },
  {
   "cell_type": "code",
   "execution_count": 27,
   "metadata": {},
   "outputs": [
    {
     "data": {
      "text/html": [
       "<div>\n",
       "<style scoped>\n",
       "    .dataframe tbody tr th:only-of-type {\n",
       "        vertical-align: middle;\n",
       "    }\n",
       "\n",
       "    .dataframe tbody tr th {\n",
       "        vertical-align: top;\n",
       "    }\n",
       "\n",
       "    .dataframe thead th {\n",
       "        text-align: right;\n",
       "    }\n",
       "</style>\n",
       "<table border=\"1\" class=\"dataframe\">\n",
       "  <thead>\n",
       "    <tr style=\"text-align: right;\">\n",
       "      <th></th>\n",
       "      <th>total</th>\n",
       "      <th>average</th>\n",
       "    </tr>\n",
       "    <tr>\n",
       "      <th>is_weekend</th>\n",
       "      <th></th>\n",
       "      <th></th>\n",
       "    </tr>\n",
       "  </thead>\n",
       "  <tbody>\n",
       "    <tr>\n",
       "      <th>False</th>\n",
       "      <td>1407003</td>\n",
       "      <td>31.551397</td>\n",
       "    </tr>\n",
       "    <tr>\n",
       "      <th>True</th>\n",
       "      <td>400844</td>\n",
       "      <td>22.788175</td>\n",
       "    </tr>\n",
       "  </tbody>\n",
       "</table>\n",
       "</div>"
      ],
      "text/plain": [
       "              total    average\n",
       "is_weekend                    \n",
       "False       1407003  31.551397\n",
       "True         400844  22.788175"
      ]
     },
     "execution_count": 27,
     "metadata": {},
     "output_type": "execute_result"
    }
   ],
   "source": [
    "# Confirming that weekends are less busy\n",
    "df.groupby('is_weekend').agg(total = ('number_people', 'sum'), average = ('number_people', 'mean'))"
   ]
  },
  {
   "cell_type": "code",
   "execution_count": 85,
   "metadata": {},
   "outputs": [
    {
     "data": {
      "image/png": "[encoded data removed]",
      "text/plain": [
       "<Figure size 576x432 with 1 Axes>"
      ]
     },
     "metadata": {},
     "output_type": "display_data"
    }
   ],
   "source": [
    "# Plotting weekend vs other days\n",
    "plt.figure(figsize = (8, 6))\n",
    "sns.barplot(data = df, x = 'is_weekend', y = 'number_people', palette = 'husl')\n",
    "sns.despine()\n",
    "plt.title('Number of people at the gym by weekday/weekend')\n",
    "plt.ylabel(\"Number of people\")\n",
    "plt.xlabel('During the weekend')\n",
    "plt.show()"
   ]
  },
  {
   "cell_type": "markdown",
   "metadata": {},
   "source": [
    "The gym is most crowded on weekdays."
   ]
  },
  {
   "cell_type": "markdown",
   "metadata": {},
   "source": [
    "## 2. How does the time of year affect traffic to the gym?"
   ]
  },
  {
   "cell_type": "code",
   "execution_count": 100,
   "metadata": {},
   "outputs": [
    {
     "data": {
      "image/png": "[encoded data removed]",
      "text/plain": [
       "<Figure size 432x288 with 2 Axes>"
      ]
     },
     "metadata": {},
     "output_type": "display_data"
    }
   ],
   "source": [
    "# Plot - during semester\n",
    "fig, axs = plt.subplots(ncols=2, sharey = True)\n",
    "sns.set_palette('Set2')\n",
    "sns.barplot(data = df, x = 'is_during_semester', y = 'number_people', ax = axs[1])\n",
    "sns.barplot(data = df, x = 'is_start_of_semester', y = 'number_people', ax = axs[0])\n",
    "plt.suptitle('Point in semester')\n",
    "for ax in axs.flat:\n",
    "    ax.set(ylabel='Number of people')\n",
    "\n",
    "for ax in axs:\n",
    "    ax.label_outer()\n",
    "\n",
    "plt.show()"
   ]
  },
  {
   "cell_type": "markdown",
   "metadata": {},
   "source": [
    "The gym is most crowded at the start of the semester and during the semester (when students are not on a break)."
   ]
  },
  {
   "cell_type": "code",
   "execution_count": 30,
   "metadata": {},
   "outputs": [
    {
     "data": {
      "text/html": [
       "<div>\n",
       "<style scoped>\n",
       "    .dataframe tbody tr th:only-of-type {\n",
       "        vertical-align: middle;\n",
       "    }\n",
       "\n",
       "    .dataframe tbody tr th {\n",
       "        vertical-align: top;\n",
       "    }\n",
       "\n",
       "    .dataframe thead th {\n",
       "        text-align: right;\n",
       "    }\n",
       "</style>\n",
       "<table border=\"1\" class=\"dataframe\">\n",
       "  <thead>\n",
       "    <tr style=\"text-align: right;\">\n",
       "      <th></th>\n",
       "      <th>is_start_of_semester</th>\n",
       "      <th>number_people</th>\n",
       "    </tr>\n",
       "  </thead>\n",
       "  <tbody>\n",
       "    <tr>\n",
       "      <th>0</th>\n",
       "      <td>False</td>\n",
       "      <td>0.146137</td>\n",
       "    </tr>\n",
       "    <tr>\n",
       "      <th>1</th>\n",
       "      <td>True</td>\n",
       "      <td>0.082415</td>\n",
       "    </tr>\n",
       "  </tbody>\n",
       "</table>\n",
       "</div>"
      ],
      "text/plain": [
       "   is_start_of_semester  number_people\n",
       "0                 False       0.146137\n",
       "1                  True       0.082415"
      ]
     },
     "execution_count": 30,
     "metadata": {},
     "output_type": "execute_result"
    }
   ],
   "source": [
    "#Probability of finding the gym empty - start of semester\n",
    "sem = pd.DataFrame(df.number_people.eq(0).groupby(df.is_start_of_semester).mean().reset_index())\n",
    "sem"
   ]
  },
  {
   "cell_type": "code",
   "execution_count": 31,
   "metadata": {
    "scrolled": true
   },
   "outputs": [
    {
     "data": {
      "text/html": [
       "<div>\n",
       "<style scoped>\n",
       "    .dataframe tbody tr th:only-of-type {\n",
       "        vertical-align: middle;\n",
       "    }\n",
       "\n",
       "    .dataframe tbody tr th {\n",
       "        vertical-align: top;\n",
       "    }\n",
       "\n",
       "    .dataframe thead th {\n",
       "        text-align: right;\n",
       "    }\n",
       "</style>\n",
       "<table border=\"1\" class=\"dataframe\">\n",
       "  <thead>\n",
       "    <tr style=\"text-align: right;\">\n",
       "      <th></th>\n",
       "      <th>is_during_semester</th>\n",
       "      <th>number_people</th>\n",
       "    </tr>\n",
       "  </thead>\n",
       "  <tbody>\n",
       "    <tr>\n",
       "      <th>0</th>\n",
       "      <td>False</td>\n",
       "      <td>0.209286</td>\n",
       "    </tr>\n",
       "    <tr>\n",
       "      <th>1</th>\n",
       "      <td>True</td>\n",
       "      <td>0.106028</td>\n",
       "    </tr>\n",
       "  </tbody>\n",
       "</table>\n",
       "</div>"
      ],
      "text/plain": [
       "   is_during_semester  number_people\n",
       "0               False       0.209286\n",
       "1                True       0.106028"
      ]
     },
     "execution_count": 31,
     "metadata": {},
     "output_type": "execute_result"
    }
   ],
   "source": [
    "#Probability of finding the gym empty - during semester\n",
    "dur = pd.DataFrame(df.number_people.eq(0).groupby(df.is_during_semester).mean().reset_index())\n",
    "dur"
   ]
  },
  {
   "cell_type": "code",
   "execution_count": 103,
   "metadata": {},
   "outputs": [
    {
     "data": {
      "image/png": "[encoded data removed]",
      "text/plain": [
       "<Figure size 576x432 with 1 Axes>"
      ]
     },
     "metadata": {},
     "output_type": "display_data"
    }
   ],
   "source": [
    "# Probability of finding the gym empty - start of/during semester\n",
    "plt.figure(figsize = (8,6))\n",
    "fig.suptitle('Probability of finding the gym empty')\n",
    "plt.plot(sem.is_start_of_semester, sem.number_people, color = 'teal', marker = 'x', label = \"Start of semester\")\n",
    "plt.ylabel('Probability of finding the gym empty')\n",
    "plt.plot(dur.is_during_semester, dur.number_people, color = 'coral', marker = '*', label = \"During semester\")\n",
    "plt.legend()\n",
    "plt.show()"
   ]
  },
  {
   "cell_type": "markdown",
   "metadata": {},
   "source": [
    "The gym is less likely to be empty at the start of the semester, and during the semester."
   ]
  }
 ],
 "metadata": {
  "kernelspec": {
   "display_name": "Python 3",
   "language": "python",
   "name": "python3"
  },
  "language_info": {
   "codemirror_mode": {
    "name": "ipython",
    "version": 3
   },
   "file_extension": ".py",
   "mimetype": "text/x-python",
   "name": "python",
   "nbconvert_exporter": "python",
   "pygments_lexer": "ipython3",
   "version": "3.7.6"
  }
 },
 "nbformat": 4,
 "nbformat_minor": 4
}
