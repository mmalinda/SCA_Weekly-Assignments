{
  "nbformat": 4,
  "nbformat_minor": 0,
  "metadata": {
    "kernelspec": {
      "display_name": "Python 3",
      "language": "python",
      "name": "python3"
    },
    "language_info": {
      "codemirror_mode": {
        "name": "ipython",
        "version": 3
      },
      "file_extension": ".py",
      "mimetype": "text/x-python",
      "name": "python",
      "nbconvert_exporter": "python",
      "pygments_lexer": "ipython3",
      "version": "3.6.6"
    },
    "latex_envs": {
      "LaTeX_envs_menu_present": true,
      "autoclose": false,
      "autocomplete": true,
      "bibliofile": "biblio.bib",
      "cite_by": "apalike",
      "current_citInitial": 1,
      "eqLabelWithNumbers": true,
      "eqNumInitial": 1,
      "hotkeys": {
        "equation": "Ctrl-E",
        "itemize": "Ctrl-I"
      },
      "labels_anchors": false,
      "latex_user_defs": false,
      "report_style_numbering": false,
      "user_envs_cfg": false
    },
    "toc": {
      "colors": {
        "hover_highlight": "#DAA520",
        "navigate_num": "#000000",
        "navigate_text": "#333333",
        "running_highlight": "#FF0000",
        "selected_highlight": "#FFD700",
        "sidebar_border": "#EEEEEE",
        "wrapper_background": "#FFFFFF"
      },
      "moveMenuLeft": true,
      "nav_menu": {
        "height": "138px",
        "width": "252px"
      },
      "navigate_menu": true,
      "number_sections": true,
      "sideBar": true,
      "threshold": 4,
      "toc_cell": false,
      "toc_section_display": "block",
      "toc_window_display": false,
      "widenNotebook": false
    },
    "varInspector": {
      "cols": {
        "lenName": 16,
        "lenType": 16,
        "lenVar": 40
      },
      "kernels_config": {
        "python": {
          "delete_cmd_postfix": "",
          "delete_cmd_prefix": "del ",
          "library": "var_list.py",
          "varRefreshCmd": "print(var_dic_list())"
        },
        "r": {
          "delete_cmd_postfix": ") ",
          "delete_cmd_prefix": "rm(",
          "library": "var_list.r",
          "varRefreshCmd": "cat(var_dic_list()) "
        }
      },
      "types_to_exclude": [
        "module",
        "function",
        "builtin_function_or_method",
        "instance",
        "_Feature"
      ],
      "window_display": false
    },
    "colab": {
      "name": "SCA_W2_MM.ipynb",
      "provenance": []
    }
  },
  "cells": [
    {
      "cell_type": "markdown",
      "metadata": {
        "nbgrader": {
          "grade": false,
          "locked": false,
          "solution": false
        },
        "id": "NTo6KoTdNPt8",
        "colab_type": "text"
      },
      "source": [
        "<font size=\"4\" style=\"color:red;\"> **IMPORTANT: ** Only modify cells which have the following comment</font>\n",
        "\n",
        "```python\n",
        "# modify this cell\n",
        "```\n",
        "\n",
        "<font style=\"color:red;\"> Do not add any new cells when submitting homework. For Docker users, to test out new code, use the coding **scratchpad** by clicking the triangular icon in the bottom right corner of the screen. (**hotkey:** control-B)  </font>\n",
        "\n"
      ]
    },
    {
      "cell_type": "markdown",
      "metadata": {
        "nbgrader": {
          "grade": false,
          "locked": false,
          "solution": false
        },
        "id": "HIh4SG3vNPuF",
        "colab_type": "text"
      },
      "source": [
        "# Exercises:"
      ]
    },
    {
      "cell_type": "markdown",
      "metadata": {
        "nbgrader": {
          "grade": false,
          "locked": false,
          "solution": false
        },
        "id": "SG1h7ApyNPuI",
        "colab_type": "text"
      },
      "source": [
        "**Note: ** Make sure you have read the *What is Probability?* notebook before attempting these exercises."
      ]
    },
    {
      "cell_type": "markdown",
      "metadata": {
        "nbgrader": {
          "grade": false,
          "locked": false,
          "solution": false
        },
        "id": "8drljvzENPuN",
        "colab_type": "text"
      },
      "source": [
        "In this excercise you will write code to estimate the probability that $n$ flips of a fair coin will result in number of `\"heads\"` between $k_1$ and $k_2$.\n",
        "\n",
        "You should write the body of two functions:\n",
        "1. <code><font color=\"blue\">seq_sum</font>(n)</code>: generates a random sequence of coin flips and counts the number of heads.\n",
        "2. <code><font color=\"blue\">estimate_prob</font>(n,k1,k2,m)</code>: Using calls to `seq_sum`, estimate the probability of the number of heads being between $k_1$ and $k_2$. \n"
      ]
    },
    {
      "cell_type": "markdown",
      "metadata": {
        "nbgrader": {
          "grade": false,
          "locked": false,
          "solution": false
        },
        "id": "M6JBAWYxNPuQ",
        "colab_type": "text"
      },
      "source": [
        "### Notebook Setup:"
      ]
    },
    {
      "cell_type": "markdown",
      "metadata": {
        "nbgrader": {
          "grade": false,
          "locked": false,
          "solution": false
        },
        "id": "P_ETRcvTNPuU",
        "colab_type": "text"
      },
      "source": [
        "The folowing magic command downloads many python packages like *numpy* and allows the notebooks to plot graphs with *matplotlib*. \n",
        "\n",
        "<font color=\"red\">**DO NOT**</font> import other packages. You already have all the packages you need.\n"
      ]
    },
    {
      "cell_type": "code",
      "metadata": {
        "id": "oAZdsIUfNPuW",
        "colab_type": "code",
        "colab": {
          "base_uri": "https://localhost:8080/",
          "height": 35
        },
        "outputId": "7428f9c3-58bb-4971-effc-2d161a0c41e2"
      },
      "source": [
        "%pylab inline\n",
        "import numpy as np"
      ],
      "execution_count": null,
      "outputs": [
        {
          "output_type": "stream",
          "text": [
            "Populating the interactive namespace from numpy and matplotlib\n"
          ],
          "name": "stdout"
        }
      ]
    },
    {
      "cell_type": "markdown",
      "metadata": {
        "id": "drI9rvYCNPuo",
        "colab_type": "text"
      },
      "source": [
        "Specifically, you can now use `np.random.rand(x)` which for some $x \\in N$ generates $x$ random numbers. You **will** use this command in your homework."
      ]
    },
    {
      "cell_type": "code",
      "metadata": {
        "id": "LpTXRwCGNPut",
        "colab_type": "code",
        "colab": {},
        "outputId": "b1ad0654-353f-4bdd-c0e7-f2dd52b0b36b"
      },
      "source": [
        "np.random.rand()"
      ],
      "execution_count": null,
      "outputs": [
        {
          "output_type": "execute_result",
          "data": {
            "text/plain": [
              "0.6741643253960339"
            ]
          },
          "metadata": {
            "tags": []
          },
          "execution_count": 2
        }
      ]
    },
    {
      "cell_type": "code",
      "metadata": {
        "id": "sTzzf3YONPvC",
        "colab_type": "code",
        "colab": {},
        "outputId": "8dad0875-0800-4f2d-fb38-9cc050df0ab4"
      },
      "source": [
        "np.random.rand(4)"
      ],
      "execution_count": null,
      "outputs": [
        {
          "output_type": "execute_result",
          "data": {
            "text/plain": [
              "array([0.96439315, 0.61838111, 0.54016795, 0.36176867])"
            ]
          },
          "metadata": {
            "tags": []
          },
          "execution_count": 3
        }
      ]
    },
    {
      "cell_type": "markdown",
      "metadata": {
        "id": "lQVf6KXCNPvR",
        "colab_type": "text"
      },
      "source": [
        "##  Exercise 1:\n",
        "\n",
        "Write a function, <code><font color =\"blue\">seq_sum</font>(n)</code>, which generates $n$ random coin flips from a fair coin and then returns the number of heads. A fair coin is defined to be a coin where $P($heads$)=\\frac{1}{2}$ \n",
        "\n",
        "The output type should be a numpy integer, **hint:** use `np.random.rand()` \n",
        "\n",
        "<font  style=\"color:blue\"> * **Code:** *</font>\n",
        "```python\n",
        "x = seq_sum(100)\n",
        "print x\n",
        "print [seq_sum(2) for x in range(20)]\n",
        "```\n",
        "\n",
        "\n",
        "<font  style=\"color:magenta\"> * **Output:** *</font>\n",
        "```\n",
        "49\n",
        "[0, 1, 1, 1, 1, 2, 1, 2, 1, 1, 0, 0, 2, 1, 1, 1, 0, 0, 1, 1]\n",
        "```"
      ]
    },
    {
      "cell_type": "markdown",
      "metadata": {
        "id": "_C2MBJmyNPvU",
        "colab_type": "text"
      },
      "source": [
        "* Write your code for seq_sum in the cell below"
      ]
    },
    {
      "cell_type": "code",
      "metadata": {
        "id": "LU8wdYyQNPvZ",
        "colab_type": "code",
        "colab": {}
      },
      "source": [
        "# modify this cell\n",
        "\n",
        "def seq_sum(n):\n",
        "    \"\"\" input: n, generate a sequence of n random coin flips\n",
        "        output: return the number of heads \n",
        "        Hint: For simplicity, use 1,0 to represent head,tails\n",
        "    \"\"\"\n",
        "\n",
        "    outcomes = random.randint(0, 2, n)\n",
        "    heads = sum(outcomes)\n",
        "    return heads"
      ],
      "execution_count": null,
      "outputs": []
    },
    {
      "cell_type": "markdown",
      "metadata": {
        "id": "M0MRWoB1NPvy",
        "colab_type": "text"
      },
      "source": [
        "* if the following cell runs without error you receive some points."
      ]
    },
    {
      "cell_type": "code",
      "metadata": {
        "nbgrader": {
          "grade": true,
          "grade_id": "ex1",
          "locked": true,
          "points": "5",
          "solution": false
        },
        "id": "i_a3jpD0NPv1",
        "colab_type": "code",
        "colab": {
          "base_uri": "https://localhost:8080/",
          "height": 35
        },
        "outputId": "490d824f-f8d1-4cc3-b882-b93a64d86f41"
      },
      "source": [
        "# checking function \n",
        "\n",
        "x = seq_sum(100)\n",
        "print(x)\n",
        "assert np.unique([seq_sum(2) for x in  range(0,200)]).tolist() == [0, 1, 2]\n",
        "\n",
        "#\n",
        "# AUTOGRADER TEST - DO NOT REMOVE\n",
        "#\n"
      ],
      "execution_count": null,
      "outputs": [
        {
          "output_type": "stream",
          "text": [
            "51\n"
          ],
          "name": "stdout"
        }
      ]
    },
    {
      "cell_type": "markdown",
      "metadata": {
        "id": "_qaGhZH6NPwQ",
        "colab_type": "text"
      },
      "source": [
        "## Exercise 2:\n",
        "\n",
        "Write a function, <code><font color=\"blue\">estimate_prob</font>(n,k1,k2,m)</code>, that uses <code><font color=\"blue\">seq_sum</font>(n)</code> to estimate the following probability:\n",
        "\n",
        "$$ P(\\; k_1 <= \\text{number of heads in $n$ flips} < k_2 ) $$\n",
        "\n",
        "The function should estimate the probability by running $m$ different trials of <code><font color=\"blue\">seq_sum</font>(n)</code>, probably using a *`for`* loop.\n",
        "\n",
        "In order to receive full credit **estimate_prob** <font color=\"red\">MUST</font> call **seq_sum** (aka: seq_sum is located inside the **estimate_prob** function)\n",
        "\n",
        "<font  style=\"color:blue\"> * **Code:** *</font>\n",
        "```python\n",
        "x = estimate_prob(100,45,55,1000)\n",
        "print(x)\n",
        "print type(x)\n",
        "```\n",
        "\n",
        "<font  style=\"color:magenta\"> * **Output:** *</font>\n",
        "```\n",
        "0.686\n",
        "<type 'float'>\n",
        "```"
      ]
    },
    {
      "cell_type": "code",
      "metadata": {
        "id": "9URwM-szNPxn",
        "colab_type": "code",
        "colab": {}
      },
      "source": [
        "# Modify this cell\n",
        "\n",
        "def estimate_prob(n,k1,k2,m):\n",
        "    \"\"\"Estimate the probability that n flips of a fair coin result in k1 to k2 heads\n",
        "         n: the number of coin flips (length of the sequence)\n",
        "         k1,k2: the trial is successful if the number of heads is \n",
        "                between k1 and k2-1\n",
        "         m: the number of trials (number of sequences of length n)\n",
        "         \n",
        "         output: the estimated probability \n",
        "    \"\"\"\n",
        "    x = []\n",
        "\n",
        "    for i in range(m):\n",
        "      if k1 <= seq_sum(n) < k2:\n",
        "        x.append(float(1))\n",
        "\n",
        "      else:\n",
        "        x.append(float(0))\n",
        "\n",
        "    prob = mean(x)\n",
        "\n",
        "    return prob"
      ],
      "execution_count": null,
      "outputs": []
    },
    {
      "cell_type": "code",
      "metadata": {
        "id": "zgaj00jANPx-",
        "colab_type": "code",
        "colab": {
          "base_uri": "https://localhost:8080/",
          "height": 35
        },
        "outputId": "5eb197ba-694d-438c-c88b-83f925b3fb8c"
      },
      "source": [
        "# this is a small sanity check\n",
        "# the true check for this function is further down\n",
        "\n",
        "x = estimate_prob(100,45,55,1000)\n",
        "print(x)\n",
        "assert 'float' in str(type(x))"
      ],
      "execution_count": null,
      "outputs": [
        {
          "output_type": "stream",
          "text": [
            "0.692\n"
          ],
          "name": "stdout"
        }
      ]
    },
    {
      "cell_type": "markdown",
      "metadata": {
        "id": "nvTVFVh2NPyQ",
        "colab_type": "text"
      },
      "source": [
        "### Estimate vs. True Probability\n",
        "\n",
        "We can now check how to see how close these estimates are to the true probabilities."
      ]
    },
    {
      "cell_type": "markdown",
      "metadata": {
        "id": "xCaTpKH5NPyT",
        "colab_type": "text"
      },
      "source": [
        "### Helper Functions\n",
        "\n",
        "These helper functions are used to calculate the actual probabilities. They are used to test your code.\n",
        "\n",
        "It is not required that you understand how they work."
      ]
    },
    {
      "cell_type": "code",
      "metadata": {
        "nbgrader": {
          "grade": false,
          "locked": true,
          "solution": false
        },
        "id": "HrGKziLBNPyX",
        "colab_type": "code",
        "colab": {}
      },
      "source": [
        "def calc_prob(n,k1,k2):\n",
        "    \"\"\"Calculate the probability using a normal approximation\"\"\"\n",
        "    n=float(n);k1=float(k1);k2=float(k2)\n",
        "    z1=(k1-0.5*n)/(sqrt(n)/2)\n",
        "    z2=(k2-0.5*n)/(sqrt(n)/2)\n",
        "    return (erf(z2/sqrt(2))-erf(z1/sqrt(2)))/2\n",
        "\n",
        "from math import erf,sqrt\n",
        "def evaluate(n,q1,q2,m,r=100):\n",
        "    \"\"\"Run calc_range many times and test whether the estimates are consistent with calc_prob\"\"\"\n",
        "    k1=int(q1*n)\n",
        "    k2=int(q2*n)\n",
        "    p=calc_prob(n,k1,k2)\n",
        "    std=sqrt(p*(1-p)/m)\n",
        "    print('computed prob=%5.3f, std=%5.3f'%(p,std))\n",
        "\n",
        "    L=[estimate_prob(n,k1,k2,m) for i in range(r)]\n",
        "    med=np.median(L)\n",
        "    print('ran estimator %d times, with parameters n=%d,k1=%d,k2=%d,m=%d'%(r,n,k1,k2,m))\n",
        "    print('median of estimates=%5.3f, error of median estimator=%5.3f, std= %f5.3'%(med,med-p,std))\n",
        "    return L,med,p,std,abs((med-p)/std)"
      ],
      "execution_count": null,
      "outputs": []
    },
    {
      "cell_type": "code",
      "metadata": {
        "nbgrader": {
          "grade": false,
          "locked": true,
          "solution": false
        },
        "id": "Zp0NOk-DNPym",
        "colab_type": "code",
        "colab": {}
      },
      "source": [
        "def test_report_assert(n,q1,q2,m,r=100):\n",
        "    k1=int(q1*n)\n",
        "    k2=int(q2*n)\n",
        "    L,med,p,std,norm_err=evaluate(n,q1,q2,m,r=100)\n",
        "    hist(L);\n",
        "    plot([p,p],plt.ylim(),'r',label='true prob')\n",
        "    plot([med,med],plt.ylim(),'k',label='median of %d estimates'%r)\n",
        "    mid_y=mean(plt.ylim())\n",
        "    plot([p-std,p+std],[mid_y,mid_y],'g',label='+-std')\n",
        "    legend();\n",
        "    print('normalized error of median=',norm_err,'should be <1.0')\n",
        "    title('r=%d,n=%d,k1=%d,k2=%d,m=%d,\\nnorm_err=%4.3f'%(r,n,k1,k2,m,norm_err))\n",
        "    assert norm_err<1.0"
      ],
      "execution_count": null,
      "outputs": []
    },
    {
      "cell_type": "markdown",
      "metadata": {
        "id": "km1RMhuONPy3",
        "colab_type": "text"
      },
      "source": [
        "### Testing your Functions"
      ]
    },
    {
      "cell_type": "markdown",
      "metadata": {
        "id": "bBKmMnfINPy6",
        "colab_type": "text"
      },
      "source": [
        "* We now test your functions. The graphs below show how close your estimated probability is to the true probability for various values of $k_1$ and $k_2$. You can see that your answer is never exactly the correct probability. \n",
        "* For full credit, the code below must run without error."
      ]
    },
    {
      "cell_type": "code",
      "metadata": {
        "nbgrader": {
          "grade": true,
          "grade_id": "ex2",
          "locked": true,
          "points": "5",
          "solution": false
        },
        "id": "2Qo_sH2vNPy9",
        "colab_type": "code",
        "colab": {
          "base_uri": "https://localhost:8080/",
          "height": 1000
        },
        "outputId": "a901bbdc-32a0-478b-eff0-797a26688113"
      },
      "source": [
        "# checking functions\n",
        "\n",
        "m=100\n",
        "i=1\n",
        "figure(figsize=[10,12])\n",
        "for n in [100,1000]:\n",
        "    for q1,q2 in [(0.4,0.6),(0.55,1.00),(0.47,0.499)]:\n",
        "        fig=subplot(3,2,i)\n",
        "        print('#### test no.',i)\n",
        "        i+=1\n",
        "        test_report_assert(n,q1,q2,m,r=100)\n",
        "tight_layout()"
      ],
      "execution_count": null,
      "outputs": [
        {
          "output_type": "stream",
          "text": [
            "#### test no. 1\n",
            "computed prob=0.954, std=0.021\n",
            "ran estimator 100 times, with parameters n=100,k1=40,k2=60,m=100\n",
            "median of estimates=0.960, error of median estimator=0.006, std= 0.0208405.3\n",
            "normalized error of median= 0.26392994232403066 should be <1.0\n",
            "#### test no. 2\n",
            "computed prob=0.159, std=0.037\n",
            "ran estimator 100 times, with parameters n=100,k1=55,k2=100,m=100\n",
            "median of estimates=0.180, error of median estimator=0.021, std= 0.0365355.3\n",
            "normalized error of median= 0.5842204699465883 should be <1.0\n",
            "#### test no. 3\n",
            "computed prob=0.146, std=0.035\n",
            "ran estimator 100 times, with parameters n=100,k1=47,k2=49,m=100\n",
            "median of estimates=0.140, error of median estimator=-0.006, std= 0.0353595.3\n",
            "normalized error of median= 0.18346390889487418 should be <1.0\n",
            "#### test no. 4\n",
            "computed prob=1.000, std=0.000\n",
            "ran estimator 100 times, with parameters n=1000,k1=400,k2=600,m=100\n",
            "median of estimates=1.000, error of median estimator=0.000, std= 0.0000025.3\n",
            "normalized error of median= 0.0001593621193426113 should be <1.0\n",
            "#### test no. 5\n",
            "computed prob=0.001, std=0.003\n",
            "ran estimator 100 times, with parameters n=1000,k1=550,k2=1000,m=100\n",
            "median of estimates=0.000, error of median estimator=-0.001, std= 0.0027975.3\n",
            "normalized error of median= 0.27987751426889984 should be <1.0\n",
            "#### test no. 6\n",
            "computed prob=0.446, std=0.050\n",
            "ran estimator 100 times, with parameters n=1000,k1=470,k2=499,m=100\n",
            "median of estimates=0.450, error of median estimator=0.004, std= 0.0497065.3\n",
            "normalized error of median= 0.08257083830712841 should be <1.0\n"
          ],
          "name": "stdout"
        },
        {
          "output_type": "display_data",
          "data": {
            "image/png": "[encoded data removed]",
            "text/plain": [
              "<Figure size 720x864 with 6 Axes>"
            ]
          },
          "metadata": {
            "tags": [],
            "needs_background": "light"
          }
        }
      ]
    },
    {
      "cell_type": "code",
      "metadata": {
        "nbgrader": {
          "grade": true,
          "grade_id": "ex3",
          "locked": true,
          "points": "5",
          "solution": false
        },
        "id": "zfpdht6mNPzM",
        "colab_type": "code",
        "colab": {
          "base_uri": "https://localhost:8080/",
          "height": 89
        },
        "outputId": "691d32ab-3b3e-487e-e0d4-38b93edfb421"
      },
      "source": [
        "# checking functions \n",
        "\n",
        "def seq_sum(n):\n",
        "    #Log.append(n)\n",
        "    s=sum(random.rand(n)>0.5)\n",
        "    Log.append((n,s))\n",
        "    return s\n",
        "\n",
        "n,k1,k2,m = 100,45,50,1000\n",
        "for r in range(10):\n",
        "    Log=[]\n",
        "    a=estimate_prob(n,k1,k2,m)\n",
        "    b=float(sum([(s>=k1 and s<k2) for n,s in Log]))/m\n",
        "    n_correct=sum(nn==100 for nn,s in Log)\n",
        "    assert a==b, \"estimate is incorrect. should be %4f, instead is %4f\"%(b,a)\n",
        "    assert m==len(Log), 'should call seq_sum %d times, called it %d times'%(m,len(Log))\n",
        "    assert m==n_correct, 'the parameter n should be %d but sometimes it was not.'%n\n",
        "    \n",
        "print(\"all good!\")"
      ],
      "execution_count": null,
      "outputs": [
        {
          "output_type": "stream",
          "text": [
            "all good!\n"
          ],
          "name": "stdout"
        },
        {
          "output_type": "stream",
          "text": [
            "/usr/local/lib/python3.6/dist-packages/ipykernel_launcher.py:14: DeprecationWarning: Calling np.sum(generator) is deprecated, and in the future will give a different result. Use np.sum(np.fromiter(generator)) or the python sum builtin instead.\n",
            "  \n"
          ],
          "name": "stderr"
        }
      ]
    },
    {
      "cell_type": "code",
      "metadata": {
        "id": "MJ6B9yqBNPzV",
        "colab_type": "code",
        "colab": {}
      },
      "source": [
        "\n",
        "\n",
        "\n",
        "\n",
        "\n"
      ],
      "execution_count": null,
      "outputs": []
    }
  ]
}